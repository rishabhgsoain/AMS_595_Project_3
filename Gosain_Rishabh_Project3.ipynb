{
  "cells": [
    {
      "cell_type": "markdown",
      "metadata": {
        "id": "xq__bChjD04e"
      },
      "source": [
        "# Python Assignment 1"
      ]
    },
    {
      "cell_type": "markdown",
      "metadata": {
        "id": "y7j2V0UDMYLG"
      },
      "source": [
        "⏱⏱⏱**Due: 10/19/2025 11:59:59 PM** ⏱⏱⏱\n",
        "\n",
        "Submit this notebook file and upload it to your git repo. Include a link to your git repo while submitting this file to Brightspace.\n",
        "\n",
        "You are not allowed to use chatgpt or any LLM in this assignment.\n",
        "Cooperation is allowed and encouraged; however, you must write up and submit your own work. If you cooperate with others, you must list their names here."
      ]
    },
    {
      "cell_type": "markdown",
      "metadata": {
        "id": "SUS30Ew9D04n"
      },
      "source": [
        "Total points: 100 (equivalent to 20 points after conversion)"
      ]
    },
    {
      "cell_type": "markdown",
      "metadata": {
        "id": "b_bgT3b2GYTB"
      },
      "source": [
        "## 0. Data Types, Structures, Indexing, and Slicing"
      ]
    },
    {
      "cell_type": "markdown",
      "metadata": {
        "id": "6yI1Jt57IwV2"
      },
      "source": [
        "Read the lecutre note as well as [this page](https://www.geeksforgeeks.org/mutable-vs-immutable-objects-in-python/) and [this page](https://www.geeksforgeeks.org/difference-between-shallow-and-deep-copy-of-a-class/). Complete the following questions.\n",
        "\n",
        "(5 points) Give some examples (at least 2) of mutable objects in Python.\n",
        "\n",
        "***Answer:***\n",
        "<h1>List & Dictionary</h1>\n",
        "<h4>Example</h4>\n",
        "<code>\n",
        "    lst = [1, 2, 3]\n",
        "    lst[0] = 10\n",
        "    print(lst)  \n",
        "</code>\n",
        "\n",
        "<code>\n",
        "dict = {\"name\": \"Rishabh\", \"age\": 24}\n",
        "dict[\"age\"] = 26    \n",
        "print(dict) \n",
        "</code>\n",
        "---\n",
        "\n",
        "\n",
        "\n",
        "(5 points) Give some examples (at least 2) of immutable objects in Python.\n",
        "\n",
        "***Answer:***\n",
        "<h1>Tuple & String</h1>\n",
        "\n",
        "<h4>Example</h4>\n",
        "<code>\n",
        "my_tuple = (1, 2, 3)\n",
        "my_tuple[0] = 10 It will show error\n",
        "print(my_tuple)       \n",
        "</code>\n",
        "\n",
        "\n",
        "<code>\n",
        "my_string = \"hello\"\n",
        " my_string[0] = \"H\" Will show error\n",
        "print(new_string)  # Output: \"Hello\"\n",
        "\n",
        "\n",
        "</code>\n",
        "---\n",
        "\n",
        "\n",
        "\n",
        "(10 points) State the differences between assignment, shallow copy, and deep copy. Any reasonable answer will get full credit.\n",
        "\n",
        "***Answer:***\n",
        "\n",
        "<p>\n",
        "Assignment: Both variables link to the same memory location when you assign one to the other (b = a, for example).\n",
        " If one is altered, the other is also altered.\n",
        "\n",
        "Shallow Copy: If the original contains additional objects (such as lists inside lists), the inner objects are still shared between the two. This creates a new object but just duplicates the top level of the original.\n",
        "\n",
        "Deep Copy: This produces a whole separate copy that includes all nested items.  Modifying one has no effect whatsoever on the other.\n",
        "</p>\n",
        "---\n"
      ]
    },
    {
      "cell_type": "markdown",
      "metadata": {
        "id": "OA8DxcrrGqZD"
      },
      "source": [
        "(10 points) Using string methods find() and rfind(), find the index of the first digit (i.e. 0) and the index of the last digit (5) in the string below. Then, using string slicing, extract the number (i.e. 0.595595) from this string and convert the extracted value to a floating point number. Print out this float to the console."
      ]
    },
    {
      "cell_type": "code",
      "execution_count": 23,
      "metadata": {
        "id": "AUuFXXWqG4D3"
      },
      "outputs": [
        {
          "name": "stdout",
          "output_type": "stream",
          "text": [
            "0.595595\n"
          ]
        }
      ],
      "source": [
        "text = \"F-DGFDDSFGFD-CFDSHdstgfdfe: tfsd  aaa bdsf 0.595595 fdsgfdbc\"\n",
        "\n",
        "# Finding the number 0 from where it starts\n",
        "firstIndx=text.find('0')\n",
        "\n",
        "# Finding the number 5 where it ends\n",
        "lastIndx=text.rfind('5')\n",
        "\n",
        "#  taking out only the number part using slice method\n",
        "nmbr=text[firstIndx : lastIndx + 1]\n",
        "\n",
        "#  converting text into float\n",
        "nmbrVal=float(nmbr)\n",
        "\n",
        "print(nmbrVal)"
      ]
    },
    {
      "cell_type": "markdown",
      "metadata": {
        "id": "cnCljYgpD04p"
      },
      "source": [
        "## 1. Conditional Statements\n",
        "\n",
        "(10 points)\n",
        "Translate the following MATLAB code into Python using `if-elif-else`.\n",
        "```\n",
        "n = input('Enter a number: ');\n",
        "\n",
        "switch n\n",
        "    case -1\n",
        "        disp('negative one')\n",
        "    case 0\n",
        "        disp('zero')\n",
        "    case 1\n",
        "        disp('positive one')\n",
        "    otherwise\n",
        "        disp('other value')\n",
        "end\n",
        "```"
      ]
    },
    {
      "cell_type": "code",
      "execution_count": null,
      "metadata": {
        "collapsed": true,
        "id": "9d8vl5zjD04q"
      },
      "outputs": [
        {
          "name": "stdout",
          "output_type": "stream",
          "text": [
            "other value\n"
          ]
        }
      ],
      "source": [
        "n = int(input(\"Enter a number\")) # taking the input value\n",
        "if n==-1: # the value of number is -1 then it will print negative one\n",
        "    print(\"Negative one\")\n",
        "    \n",
        "elif n==0:# the value of number is 0 then it will print zero\n",
        "    print(\"zero\")\n",
        "\n",
        "elif n==1:# the value of number is 1 then it will print positive one\n",
        "    print(\"positive one\")\n",
        "    \n",
        "else:# the value of number is other than this then it will print other value\n",
        "    print(\"other value\")\n",
        "    "
      ]
    },
    {
      "cell_type": "markdown",
      "metadata": {
        "id": "sW9XiUPpD04s"
      },
      "source": [
        "## 2. While Loops\n",
        "\n",
        "(10 points) Write a Python program that calculates the factorial of a given number (you can assume an positive integer) using a while loop. Display the result to the console."
      ]
    },
    {
      "cell_type": "code",
      "execution_count": 7,
      "metadata": {
        "colab": {
          "base_uri": "https://localhost:8080/"
        },
        "collapsed": true,
        "id": "CRCERx8uD04t",
        "outputId": "1870b9d1-fe04-4ae7-e5ec-08ce640ce72e"
      },
      "outputs": [
        {
          "name": "stdout",
          "output_type": "stream",
          "text": [
            "6227020800\n"
          ]
        }
      ],
      "source": [
        "\n",
        "\n",
        "\n",
        "\n",
        "# test cases\n",
        "# n = 17, Output: 355687428096000\n",
        "# n = 13, Output: 6227020800\n",
        "n = 13\n",
        "i=1\n",
        "ans=1\n",
        "while(i<=n):\n",
        "    ans*=i\n",
        "    i+=1\n",
        "\n",
        "print(ans)\n",
        "# I have one iterator i which starts from 1 and goes till n and I am multiplying i and storing it to the ans variable\n",
        "\n"
      ]
    },
    {
      "cell_type": "markdown",
      "metadata": {
        "id": "ZQ5SVMq6D04w"
      },
      "source": [
        "## 3. Functions\n",
        "\n",
        "(10 points) Write a function that determines if a number is prime."
      ]
    },
    {
      "cell_type": "code",
      "execution_count": 10,
      "metadata": {
        "colab": {
          "base_uri": "https://localhost:8080/"
        },
        "id": "6rGP5G3_D04x",
        "outputId": "00df2d17-b697-4146-968f-be4fa7cc3ba3"
      },
      "outputs": [
        {
          "name": "stdout",
          "output_type": "stream",
          "text": [
            "True\n",
            "False\n",
            "True\n"
          ]
        }
      ],
      "source": [
        "def is_prime(n):\n",
        "    cnt=0\n",
        "    for i in range(1,n):\n",
        "        if(n%i==0):\n",
        "            cnt+=1\n",
        "    if(cnt==2):return True\n",
        "    return False\n",
        "\n",
        "\n",
        "# The logic behind this is - all prime nmbers can be divisible by 1 and number itself and just counting how many times the number is divisible\n",
        "# if it is 2 times then I can say that its a prime number\n",
        "# test cases\n",
        "print(is_prime(2))      # Output: True\n",
        "print(is_prime(10))     # Output: False\n",
        "print(is_prime(17))     # Output: True"
      ]
    },
    {
      "cell_type": "markdown",
      "metadata": {
        "id": "Z6qg-fpQD04u"
      },
      "source": [
        "## 4. List Comprehension\n",
        "\n",
        "(10 points) Write a Python function called `prime_factors` that takes a relatively small integer as input and returns a list of its distinct prime factors. The function should use list comprehension to generate the list of distinct prime factors. You may use the function is_prime() defined in Q3.\n"
      ]
    },
    {
      "cell_type": "code",
      "execution_count": 17,
      "metadata": {
        "colab": {
          "base_uri": "https://localhost:8080/"
        },
        "collapsed": true,
        "id": "2hSCjYlOD04v",
        "outputId": "1024d2e2-7d24-4e65-9529-e5a82d2a3211"
      },
      "outputs": [
        {
          "name": "stdout",
          "output_type": "stream",
          "text": [
            "[2, 3, 5]\n",
            "[2, 7]\n",
            "[2, 3, 11]\n",
            "[2, 29]\n"
          ]
        }
      ],
      "source": [
        "def prime_factors(n):\n",
        "   return [i for i in range(2, n + 1) if is_prime(i) and n % i == 0]\n",
        "\n",
        "#All prime numbers that divide n are returned by the prime_factors(n) function.  It divides n evenly (n % i == 0), examines each \n",
        "# integer between 2 and n to see whether it is prime (is_prime(i)), and then returns the primes as a list.\n",
        "\n",
        "# test cases\n",
        "print(prime_factors(30))  # Output: [2, 3, 5]\n",
        "print(prime_factors(56))  # Output: [2, 7]\n",
        "print(prime_factors(198))  # Output: [2, 3, 11]\n",
        "print(prime_factors(464))  # Output: [2, 29]"
      ]
    },
    {
      "cell_type": "markdown",
      "metadata": {
        "id": "dw4kZZCiD040"
      },
      "source": [
        "## 5. Recursive Functions\n",
        "(25 points) Write a function that uses recursion to generate the $n$th row of the Pascal's triangle.\n",
        "```\n",
        "              1\n",
        "           1     1\n",
        "        1     2     1\n",
        "      1    3     3     1\n",
        "   1    4     6     4    1\n",
        "1     5    10    10    5    1\n",
        "...\n",
        "...\n",
        "...\n",
        "```"
      ]
    },
    {
      "cell_type": "code",
      "execution_count": 14,
      "metadata": {
        "colab": {
          "base_uri": "https://localhost:8080/"
        },
        "id": "V8QFB_gKD040",
        "outputId": "4946dc49-2061-4057-e65d-9f48af44dac9"
      },
      "outputs": [
        {
          "name": "stdout",
          "output_type": "stream",
          "text": [
            "[1, 5, 10, 10, 5, 1]\n"
          ]
        }
      ],
      "source": [
        "def pascal(n):\n",
        "    # Base case: return Pascal's Triangle's first row if n equals 1.\n",
        "    if n == 1:\n",
        "        return [1]\n",
        "    #Recursive call: from this len(preveious)-1 getting the previous value of the row\n",
        "    previous = pascal(n - 1)\n",
        "    \n",
        "    current = [1]\n",
        "    # computing the middle values of pascal traingle by adding prev number + the next number\n",
        "    for i in range(len(previous) - 1):\n",
        "        current.append(previous[i] + previous[i + 1])\n",
        "        # appending the 1 and ending it becuase last number will always be 1\n",
        "    current.append(1)\n",
        "    \n",
        "    return current\n",
        "\n",
        "\n",
        "\n",
        "# test case\n",
        "print(pascal(6))  # output [1, 5, 10, 10, 5, 1]"
      ]
    },
    {
      "cell_type": "markdown",
      "metadata": {
        "id": "eZytgm0qD041"
      },
      "source": [
        "Rewrite the above function using only `while` or `for` loops instead of recursion."
      ]
    },
    {
      "cell_type": "code",
      "execution_count": 16,
      "metadata": {
        "colab": {
          "base_uri": "https://localhost:8080/"
        },
        "collapsed": true,
        "id": "UZ8f-akaD041",
        "outputId": "68ec5672-a40f-493f-e725-68b7471e76bc"
      },
      "outputs": [
        {
          "name": "stdout",
          "output_type": "stream",
          "text": [
            "[1, 5, 10, 10, 5, 1]\n"
          ]
        }
      ],
      "source": [
        "def pascal_by_loops(n):\n",
        "\n",
        "    row = [1]\n",
        "    \n",
        "   \n",
        "    for i in range(1, n):\n",
        "        new_row = [1]   # Setting the first value as 1 becuase first number will always be 1 \n",
        "        for j in range(len(row) - 1):\n",
        "             # computing the middle values of pascal traingle by adding prev number + the next number\n",
        "            new_row.append(row[j] + row[j + 1])\n",
        "            # appending the 1 and ending it becuase last number will always be 1\n",
        "        new_row.append(1)\n",
        "        row = new_row\n",
        "    \n",
        "    return row\n",
        "\n",
        "\n",
        "print(pascal_by_loops(6))"
      ]
    },
    {
      "cell_type": "markdown",
      "metadata": {
        "id": "HvHD6QHzVo9I"
      },
      "source": [
        "\n",
        "\n",
        "---\n",
        "\n",
        "\n",
        "（5 points) good coding practice and properly submitting your work to GitHub."
      ]
    }
  ],
  "metadata": {
    "anaconda-cloud": {},
    "colab": {
      "provenance": []
    },
    "kernelspec": {
      "display_name": "base",
      "language": "python",
      "name": "python3"
    },
    "language_info": {
      "codemirror_mode": {
        "name": "ipython",
        "version": 3
      },
      "file_extension": ".py",
      "mimetype": "text/x-python",
      "name": "python",
      "nbconvert_exporter": "python",
      "pygments_lexer": "ipython3",
      "version": "3.12.2"
    }
  },
  "nbformat": 4,
  "nbformat_minor": 0
}
